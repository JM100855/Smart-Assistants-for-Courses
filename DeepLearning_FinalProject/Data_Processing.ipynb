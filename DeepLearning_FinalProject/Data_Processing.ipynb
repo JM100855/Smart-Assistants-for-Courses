{
  "nbformat": 4,
  "nbformat_minor": 0,
  "metadata": {
    "colab": {
      "provenance": []
    },
    "kernelspec": {
      "name": "python3",
      "display_name": "Python 3"
    },
    "language_info": {
      "name": "python"
    }
  },
  "cells": [
    {
      "cell_type": "code",
      "source": [
        "import json\n",
        "import os\n",
        "from google.colab import drive"
      ],
      "metadata": {
        "id": "UPdNigG4yiBC"
      },
      "execution_count": 5,
      "outputs": []
    },
    {
      "cell_type": "code",
      "source": [
        "drive.mount('/content/drive')"
      ],
      "metadata": {
        "colab": {
          "base_uri": "https://localhost:8080/"
        },
        "id": "uz4VTnUayjSo",
        "outputId": "bccf6eb4-29e8-4934-ccd9-325c147cc80f"
      },
      "execution_count": 6,
      "outputs": [
        {
          "output_type": "stream",
          "name": "stdout",
          "text": [
            "Drive already mounted at /content/drive; to attempt to forcibly remount, call drive.mount(\"/content/drive\", force_remount=True).\n"
          ]
        }
      ]
    },
    {
      "cell_type": "code",
      "execution_count": 7,
      "metadata": {
        "colab": {
          "base_uri": "https://localhost:8080/"
        },
        "id": "PG2UKDABuosJ",
        "outputId": "b43cb5c3-2f62-47fe-a7e5-990fd4c64145"
      },
      "outputs": [
        {
          "output_type": "stream",
          "name": "stdout",
          "text": [
            "Processed c2data (1).json and saved all Q&A pairs to processed_c2data (1).json\n",
            "Processed c1data (1).json and saved all Q&A pairs to processed_c1data (1).json\n",
            "Processed c3data.json and saved all Q&A pairs to processed_c3data.json\n",
            "Processed c4data.json and saved all Q&A pairs to processed_c4data.json\n",
            "Processed c5data.json and saved all Q&A pairs to processed_c5data.json\n",
            "Processed c6data.json and saved all Q&A pairs to processed_c6data.json\n",
            "All files processed successfully.\n"
          ]
        }
      ],
      "source": [
        "directory = '/content/drive/MyDrive/findata'\n",
        "\n",
        "def process_json_file(file_path):\n",
        "    with open(file_path, 'r') as file:\n",
        "        data = json.load(file)\n",
        "\n",
        "    processed_data = []\n",
        "    for item in data:\n",
        "        if isinstance(item, dict):\n",
        "            for q, a in item.items():\n",
        "                processed_data.append({\"Question\": q, \"Answer\": a})\n",
        "        elif isinstance(item, str):\n",
        "            qa_pairs = item.split('\\n\\n')\n",
        "            for pair in qa_pairs:\n",
        "                if pair.strip():\n",
        "                    q, a = pair.split('\\nA: ')\n",
        "                    q = q.replace('Q: ', '').strip()\n",
        "                    a = a.strip()\n",
        "                    processed_data.append({\"Question\": q, \"Answer\": a})\n",
        "\n",
        "    return processed_data\n",
        "\n",
        "for filename in os.listdir(directory):\n",
        "    if filename.endswith('.json'):\n",
        "        file_path = os.path.join(directory, filename)\n",
        "        processed_data = process_json_file(file_path)\n",
        "\n",
        "        output_filename = f'processed_{filename}'\n",
        "        output_path = os.path.join(directory, output_filename)\n",
        "        with open(output_path, 'w') as outfile:\n",
        "            json.dump(processed_data, outfile, indent=2)\n",
        "\n",
        "        print(f\"Processed {filename} and saved all Q&A pairs to {output_filename}\")\n",
        "\n",
        "print(\"All files processed successfully.\")"
      ]
    }
  ]
}